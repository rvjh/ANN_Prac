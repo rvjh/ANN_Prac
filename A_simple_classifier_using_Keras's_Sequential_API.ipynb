{
  "nbformat": 4,
  "nbformat_minor": 0,
  "metadata": {
    "colab": {
      "name": "A simple classifier using Keras's Sequential API.ipynb",
      "provenance": [],
      "authorship_tag": "ABX9TyM1Cjp2X/nvHzJFprQ59/wp",
      "include_colab_link": true
    },
    "kernelspec": {
      "name": "python3",
      "display_name": "Python 3"
    },
    "language_info": {
      "name": "python"
    }
  },
  "cells": [
    {
      "cell_type": "markdown",
      "metadata": {
        "id": "view-in-github",
        "colab_type": "text"
      },
      "source": [
        "<a href=\"https://colab.research.google.com/github/rvjh/ANN_Prac/blob/main/A_simple_classifier_using_Keras's_Sequential_API.ipynb\" target=\"_parent\"><img src=\"https://colab.research.google.com/assets/colab-badge.svg\" alt=\"Open In Colab\"/></a>"
      ]
    },
    {
      "cell_type": "code",
      "metadata": {
        "colab": {
          "base_uri": "https://localhost:8080/"
        },
        "id": "aSP0dIaGBm_j",
        "outputId": "40e0bf30-c7d5-4947-fafa-4f6746c77110"
      },
      "source": [
        "import tensorflow as tf\n",
        "\n",
        "print(tf.__version__)\n",
        "print(tf.keras.__version__)"
      ],
      "execution_count": 3,
      "outputs": [
        {
          "output_type": "stream",
          "name": "stdout",
          "text": [
            "2.6.0\n",
            "2.6.0\n"
          ]
        }
      ]
    },
    {
      "cell_type": "code",
      "metadata": {
        "colab": {
          "base_uri": "https://localhost:8080/"
        },
        "id": "DzwoHZmNBMPd",
        "outputId": "78b22968-9d47-4440-c9e8-af4c21cc24bf"
      },
      "source": [
        "Checklist = ['CPU','GPU']\n",
        "\n",
        "for devices in Checklist:\n",
        "  out_ = tf.config.list_physical_devices(devices)\n",
        "  if len(out_)>0:\n",
        "    print(f\"{devices} available\")\n",
        "    print(f\"{out_}\")"
      ],
      "execution_count": 4,
      "outputs": [
        {
          "output_type": "stream",
          "name": "stdout",
          "text": [
            "CPU available\n",
            "[PhysicalDevice(name='/physical_device:CPU:0', device_type='CPU')]\n"
          ]
        }
      ]
    },
    {
      "cell_type": "code",
      "metadata": {
        "id": "wFWj8lnrBjUi"
      },
      "source": [
        "import numpy as np\n",
        "import pandas as pd\n",
        "import matplotlib.pyplot as plt\n",
        "import os\n",
        "import tensorflow as tf\n",
        "import seaborn as sns"
      ],
      "execution_count": 5,
      "outputs": []
    },
    {
      "cell_type": "markdown",
      "metadata": {
        "id": "z8nAVLy0CvCT"
      },
      "source": [
        "Working on mnist dataset -\n",
        "This dataset contains handwritten digits.\n",
        "It has 10 classes i.e. 0 to 9\n",
        "Each data point is 2D array of 28x28 size.\n",
        "Also known as hello world dataset for ANN"
      ]
    },
    {
      "cell_type": "code",
      "metadata": {
        "id": "JZhiOgRuCrDx"
      },
      "source": [
        "## loading the dataset\n",
        "\n",
        "mnist = tf.keras.datasets.mnist\n",
        "\n",
        "(X_train_full , y_train_full), (X_test, y_test) = mnist.load_data()"
      ],
      "execution_count": 16,
      "outputs": []
    },
    {
      "cell_type": "code",
      "metadata": {
        "colab": {
          "base_uri": "https://localhost:8080/"
        },
        "id": "ssVgv4jADK_p",
        "outputId": "5993807c-90b8-4bc2-aa32-d8578c24df70"
      },
      "source": [
        "print(f\"shape of X_train_full : {X_train_full.shape}\")\n",
        "print(f\"shape of y_train_full : {y_train_full.shape}\")\n",
        "print(f\"shape of X_test : {X_test.shape}\")\n",
        "print(f\"shape of y_test : {y_test.shape}\")"
      ],
      "execution_count": 17,
      "outputs": [
        {
          "output_type": "stream",
          "name": "stdout",
          "text": [
            "shape of X_train_full : (60000, 28, 28)\n",
            "shape of y_train_full : (60000,)\n",
            "shape of X_test : (10000, 28, 28)\n",
            "shape of y_test : (10000,)\n"
          ]
        }
      ]
    },
    {
      "cell_type": "code",
      "metadata": {
        "id": "ytfzA-4pDjCT"
      },
      "source": [
        "## creating validation data\n",
        "## scaling down the values\n",
        "X_valid, X_train = X_train_full[:5000]/255.0 , X_train_full[5000:]/255.0\n",
        "\n",
        "## never convert the lebel \n",
        "y_valid, y_train = y_train_full[:5000] , y_train_full[5000:]\n",
        "\n",
        "##scaling down the test set also\n",
        "\n",
        "X_test = X_test/255.0"
      ],
      "execution_count": 18,
      "outputs": []
    },
    {
      "cell_type": "code",
      "metadata": {
        "id": "H37WDT03EfXz",
        "outputId": "79583b9f-2ce2-413f-b29e-d151b7fff6d1",
        "colab": {
          "base_uri": "https://localhost:8080/",
          "height": 248
        }
      },
      "source": [
        "plt.imshow(X_train[3],cmap='binary')\n",
        "plt.axis('off')\n",
        "plt.show()"
      ],
      "execution_count": 19,
      "outputs": [
        {
          "output_type": "display_data",
          "data": {
            "image/png": "[encoded data removed]",
            "text/plain": [
              "<Figure size 432x288 with 1 Axes>"
            ]
          },
          "metadata": {
            "needs_background": "light"
          }
        }
      ]
    },
    {
      "cell_type": "code",
      "metadata": {
        "id": "t1B9YxJ5Epoq",
        "outputId": "10d90cec-2b59-49ff-c3e4-3bb52637959b",
        "colab": {
          "base_uri": "https://localhost:8080/",
          "height": 863
        }
      },
      "source": [
        "plt.figure(figsize=(15,15))\n",
        "sns.heatmap(X_train[3],cmap='binary',annot=True)\n",
        "plt.show()"
      ],
      "execution_count": 20,
      "outputs": [
        {
          "output_type": "display_data",
          "data": {
            "image/png": "[encoded data removed]",
            "text/plain": [
              "<Figure size 1080x1080 with 2 Axes>"
            ]
          },
          "metadata": {
            "needs_background": "light"
          }
        }
      ]
    },
    {
      "cell_type": "code",
      "metadata": {
        "id": "5VoVMkpaFL4A",
        "outputId": "ec7ca842-926c-4b83-9184-ba0ce3afbb54",
        "colab": {
          "base_uri": "https://localhost:8080/"
        }
      },
      "source": [
        "# actual value of y_train\n",
        "y_train[3]"
      ],
      "execution_count": 21,
      "outputs": [
        {
          "output_type": "execute_result",
          "data": {
            "text/plain": [
              "6"
            ]
          },
          "metadata": {},
          "execution_count": 21
        }
      ]
    },
    {
      "cell_type": "code",
      "metadata": {
        "id": "bf8jIgXuG4kO",
        "outputId": "7bd514c5-e06e-4587-d426-6cb0eb1d822b",
        "colab": {
          "base_uri": "https://localhost:8080/"
        }
      },
      "source": [
        "set(y_train.tolist())"
      ],
      "execution_count": 31,
      "outputs": [
        {
          "output_type": "execute_result",
          "data": {
            "text/plain": [
              "{0, 1, 2, 3, 4, 5, 6, 7, 8, 9}"
            ]
          },
          "metadata": {},
          "execution_count": 31
        }
      ]
    },
    {
      "cell_type": "code",
      "metadata": {
        "id": "J9qUzhE4FhsX"
      },
      "source": [
        "## creating a Sequential pipeline\n",
        "\n",
        "model = tf.keras.models.Sequential()\n",
        "model.add(tf.keras.layers.Flatten(input_shape = [28,28]))\n",
        "model.add(tf.keras.layers.Dense(units=300, activation='relu'))\n",
        "model.add(tf.keras.layers.Dense(units=100, activation='relu'))\n",
        "model.add(tf.keras.layers.Dense(units=10, activation='relu'))"
      ],
      "execution_count": 33,
      "outputs": []
    },
    {
      "cell_type": "code",
      "metadata": {
        "id": "0XlST_DJF_Sw",
        "outputId": "603e8745-e66e-4954-8f82-c1ff3c114be4",
        "colab": {
          "base_uri": "https://localhost:8080/"
        }
      },
      "source": [
        "model.layers"
      ],
      "execution_count": 34,
      "outputs": [
        {
          "output_type": "execute_result",
          "data": {
            "text/plain": [
              "[<keras.layers.core.Flatten at 0x7f0d1c991d50>,\n",
              " <keras.layers.core.Dense at 0x7f0d1f4ad510>,\n",
              " <keras.layers.core.Dense at 0x7f0d1c991310>,\n",
              " <keras.layers.core.Dense at 0x7f0d1f4a6bd0>]"
            ]
          },
          "metadata": {},
          "execution_count": 34
        }
      ]
    },
    {
      "cell_type": "code",
      "metadata": {
        "id": "fvutlzRZH1-n",
        "outputId": "e244dfd7-134b-4541-a84b-423dcd863d21",
        "colab": {
          "base_uri": "https://localhost:8080/"
        }
      },
      "source": [
        "model.summary()"
      ],
      "execution_count": 35,
      "outputs": [
        {
          "output_type": "stream",
          "name": "stdout",
          "text": [
            "Model: \"sequential_1\"\n",
            "_________________________________________________________________\n",
            "Layer (type)                 Output Shape              Param #   \n",
            "=================================================================\n",
            "flatten (Flatten)            (None, 784)               0         \n",
            "_________________________________________________________________\n",
            "dense (Dense)                (None, 300)               235500    \n",
            "_________________________________________________________________\n",
            "dense_1 (Dense)              (None, 100)               30100     \n",
            "_________________________________________________________________\n",
            "dense_2 (Dense)              (None, 10)                1010      \n",
            "=================================================================\n",
            "Total params: 266,610\n",
            "Trainable params: 266,610\n",
            "Non-trainable params: 0\n",
            "_________________________________________________________________\n"
          ]
        }
      ]
    },
    {
      "cell_type": "code",
      "metadata": {
        "id": "YuvNlMM_H68E"
      },
      "source": [
        "LOSS_FUNCTION = \"sparse_categorical_crossentropy\"\n",
        "OPTIMISERS = 'adam'\n",
        "METRICES = ['accuracy']\n",
        "\n",
        "\n",
        "model.compile(optimizer=OPTIMISERS, loss=LOSS_FUNCTION, metrics=METRICES)"
      ],
      "execution_count": 37,
      "outputs": []
    },
    {
      "cell_type": "code",
      "metadata": {
        "id": "1sb1uY6AIlKB",
        "outputId": "15845629-dea0-442b-b460-c2ed6115c4c6",
        "colab": {
          "base_uri": "https://localhost:8080/"
        }
      },
      "source": [
        "VALIDATION_SET = (X_valid, y_valid)\n",
        "EPOCHS = 20\n",
        "\n",
        "\n",
        "history = model.fit(x=X_train, \n",
        "                    y=y_train, \n",
        "                    epochs=EPOCHS, \n",
        "                    validation_data=VALIDATION_SET)"
      ],
      "execution_count": 39,
      "outputs": [
        {
          "output_type": "stream",
          "name": "stdout",
          "text": [
            "Epoch 1/20\n",
            "1719/1719 [==============================] - 8s 4ms/step - loss: 2.3219 - accuracy: 0.1075 - val_loss: 2.3026 - val_accuracy: 0.0958\n",
            "Epoch 2/20\n",
            "1719/1719 [==============================] - 7s 4ms/step - loss: 2.3025 - accuracy: 0.0990 - val_loss: 2.3026 - val_accuracy: 0.0958\n",
            "Epoch 3/20\n",
            "1719/1719 [==============================] - 6s 4ms/step - loss: 2.3025 - accuracy: 0.0990 - val_loss: 2.3026 - val_accuracy: 0.0958\n",
            "Epoch 4/20\n",
            "1719/1719 [==============================] - 6s 4ms/step - loss: 2.3025 - accuracy: 0.0990 - val_loss: 2.3026 - val_accuracy: 0.0958\n",
            "Epoch 5/20\n",
            "1719/1719 [==============================] - 6s 4ms/step - loss: 2.3025 - accuracy: 0.0990 - val_loss: 2.3026 - val_accuracy: 0.0958\n",
            "Epoch 6/20\n",
            "1719/1719 [==============================] - 6s 4ms/step - loss: 2.3025 - accuracy: 0.0990 - val_loss: 2.3026 - val_accuracy: 0.0958\n",
            "Epoch 7/20\n",
            "1719/1719 [==============================] - 6s 4ms/step - loss: 2.3025 - accuracy: 0.0990 - val_loss: 2.3026 - val_accuracy: 0.0958\n",
            "Epoch 8/20\n",
            "1719/1719 [==============================] - 6s 4ms/step - loss: 2.3025 - accuracy: 0.0990 - val_loss: 2.3026 - val_accuracy: 0.0958\n",
            "Epoch 9/20\n",
            "1719/1719 [==============================] - 7s 4ms/step - loss: 2.3025 - accuracy: 0.0990 - val_loss: 2.3026 - val_accuracy: 0.0958\n",
            "Epoch 10/20\n",
            "1719/1719 [==============================] - 6s 4ms/step - loss: 2.3025 - accuracy: 0.0990 - val_loss: 2.3026 - val_accuracy: 0.0958\n",
            "Epoch 11/20\n",
            "1719/1719 [==============================] - 7s 4ms/step - loss: 2.3025 - accuracy: 0.0990 - val_loss: 2.3026 - val_accuracy: 0.0958\n",
            "Epoch 12/20\n",
            "1719/1719 [==============================] - 6s 4ms/step - loss: 2.3025 - accuracy: 0.0990 - val_loss: 2.3026 - val_accuracy: 0.0958\n",
            "Epoch 13/20\n",
            "1719/1719 [==============================] - 6s 4ms/step - loss: 2.3025 - accuracy: 0.0990 - val_loss: 2.3026 - val_accuracy: 0.0958\n",
            "Epoch 14/20\n",
            "1719/1719 [==============================] - 6s 4ms/step - loss: 2.3025 - accuracy: 0.0990 - val_loss: 2.3026 - val_accuracy: 0.0958\n",
            "Epoch 15/20\n",
            "1719/1719 [==============================] - 6s 4ms/step - loss: 2.3025 - accuracy: 0.0990 - val_loss: 2.3026 - val_accuracy: 0.0958\n",
            "Epoch 16/20\n",
            "1719/1719 [==============================] - 6s 4ms/step - loss: 2.3025 - accuracy: 0.0990 - val_loss: 2.3026 - val_accuracy: 0.0958\n",
            "Epoch 17/20\n",
            "1719/1719 [==============================] - 6s 4ms/step - loss: 2.3025 - accuracy: 0.0990 - val_loss: 2.3026 - val_accuracy: 0.0958\n",
            "Epoch 18/20\n",
            "1719/1719 [==============================] - 7s 4ms/step - loss: 2.3025 - accuracy: 0.0990 - val_loss: 2.3026 - val_accuracy: 0.0958\n",
            "Epoch 19/20\n",
            "1719/1719 [==============================] - 7s 4ms/step - loss: 2.3025 - accuracy: 0.0990 - val_loss: 2.3026 - val_accuracy: 0.0958\n",
            "Epoch 20/20\n",
            "1719/1719 [==============================] - 7s 4ms/step - loss: 2.3025 - accuracy: 0.0990 - val_loss: 2.3026 - val_accuracy: 0.0958\n"
          ]
        }
      ]
    },
    {
      "cell_type": "code",
      "metadata": {
        "id": "_PhuVSnII0e8",
        "outputId": "32ae4889-864a-4854-aafa-c9a84c83e307",
        "colab": {
          "base_uri": "https://localhost:8080/",
          "height": 669
        }
      },
      "source": [
        "pd.DataFrame(history.history)"
      ],
      "execution_count": 41,
      "outputs": [
        {
          "output_type": "execute_result",
          "data": {
            "text/html": [
              "<div>\n",
              "<style scoped>\n",
              "    .dataframe tbody tr th:only-of-type {\n",
              "        vertical-align: middle;\n",
              "    }\n",
              "\n",
              "    .dataframe tbody tr th {\n",
              "        vertical-align: top;\n",
              "    }\n",
              "\n",
              "    .dataframe thead th {\n",
              "        text-align: right;\n",
              "    }\n",
              "</style>\n",
              "<table border=\"1\" class=\"dataframe\">\n",
              "  <thead>\n",
              "    <tr style=\"text-align: right;\">\n",
              "      <th></th>\n",
              "      <th>loss</th>\n",
              "      <th>accuracy</th>\n",
              "      <th>val_loss</th>\n",
              "      <th>val_accuracy</th>\n",
              "    </tr>\n",
              "  </thead>\n",
              "  <tbody>\n",
              "    <tr>\n",
              "      <th>0</th>\n",
              "      <td>2.321853</td>\n",
              "      <td>0.107473</td>\n",
              "      <td>2.302583</td>\n",
              "      <td>0.0958</td>\n",
              "    </tr>\n",
              "    <tr>\n",
              "      <th>1</th>\n",
              "      <td>2.302550</td>\n",
              "      <td>0.098982</td>\n",
              "      <td>2.302583</td>\n",
              "      <td>0.0958</td>\n",
              "    </tr>\n",
              "    <tr>\n",
              "      <th>2</th>\n",
              "      <td>2.302550</td>\n",
              "      <td>0.098982</td>\n",
              "      <td>2.302583</td>\n",
              "      <td>0.0958</td>\n",
              "    </tr>\n",
              "    <tr>\n",
              "      <th>3</th>\n",
              "      <td>2.302550</td>\n",
              "      <td>0.098982</td>\n",
              "      <td>2.302583</td>\n",
              "      <td>0.0958</td>\n",
              "    </tr>\n",
              "    <tr>\n",
              "      <th>4</th>\n",
              "      <td>2.302550</td>\n",
              "      <td>0.098982</td>\n",
              "      <td>2.302583</td>\n",
              "      <td>0.0958</td>\n",
              "    </tr>\n",
              "    <tr>\n",
              "      <th>5</th>\n",
              "      <td>2.302550</td>\n",
              "      <td>0.098982</td>\n",
              "      <td>2.302583</td>\n",
              "      <td>0.0958</td>\n",
              "    </tr>\n",
              "    <tr>\n",
              "      <th>6</th>\n",
              "      <td>2.302550</td>\n",
              "      <td>0.098982</td>\n",
              "      <td>2.302583</td>\n",
              "      <td>0.0958</td>\n",
              "    </tr>\n",
              "    <tr>\n",
              "      <th>7</th>\n",
              "      <td>2.302550</td>\n",
              "      <td>0.098982</td>\n",
              "      <td>2.302583</td>\n",
              "      <td>0.0958</td>\n",
              "    </tr>\n",
              "    <tr>\n",
              "      <th>8</th>\n",
              "      <td>2.302550</td>\n",
              "      <td>0.098982</td>\n",
              "      <td>2.302583</td>\n",
              "      <td>0.0958</td>\n",
              "    </tr>\n",
              "    <tr>\n",
              "      <th>9</th>\n",
              "      <td>2.302550</td>\n",
              "      <td>0.098982</td>\n",
              "      <td>2.302583</td>\n",
              "      <td>0.0958</td>\n",
              "    </tr>\n",
              "    <tr>\n",
              "      <th>10</th>\n",
              "      <td>2.302550</td>\n",
              "      <td>0.098982</td>\n",
              "      <td>2.302583</td>\n",
              "      <td>0.0958</td>\n",
              "    </tr>\n",
              "    <tr>\n",
              "      <th>11</th>\n",
              "      <td>2.302550</td>\n",
              "      <td>0.098982</td>\n",
              "      <td>2.302583</td>\n",
              "      <td>0.0958</td>\n",
              "    </tr>\n",
              "    <tr>\n",
              "      <th>12</th>\n",
              "      <td>2.302550</td>\n",
              "      <td>0.098982</td>\n",
              "      <td>2.302583</td>\n",
              "      <td>0.0958</td>\n",
              "    </tr>\n",
              "    <tr>\n",
              "      <th>13</th>\n",
              "      <td>2.302550</td>\n",
              "      <td>0.098982</td>\n",
              "      <td>2.302583</td>\n",
              "      <td>0.0958</td>\n",
              "    </tr>\n",
              "    <tr>\n",
              "      <th>14</th>\n",
              "      <td>2.302550</td>\n",
              "      <td>0.098982</td>\n",
              "      <td>2.302583</td>\n",
              "      <td>0.0958</td>\n",
              "    </tr>\n",
              "    <tr>\n",
              "      <th>15</th>\n",
              "      <td>2.302550</td>\n",
              "      <td>0.098982</td>\n",
              "      <td>2.302583</td>\n",
              "      <td>0.0958</td>\n",
              "    </tr>\n",
              "    <tr>\n",
              "      <th>16</th>\n",
              "      <td>2.302550</td>\n",
              "      <td>0.098982</td>\n",
              "      <td>2.302583</td>\n",
              "      <td>0.0958</td>\n",
              "    </tr>\n",
              "    <tr>\n",
              "      <th>17</th>\n",
              "      <td>2.302550</td>\n",
              "      <td>0.098982</td>\n",
              "      <td>2.302583</td>\n",
              "      <td>0.0958</td>\n",
              "    </tr>\n",
              "    <tr>\n",
              "      <th>18</th>\n",
              "      <td>2.302550</td>\n",
              "      <td>0.098982</td>\n",
              "      <td>2.302583</td>\n",
              "      <td>0.0958</td>\n",
              "    </tr>\n",
              "    <tr>\n",
              "      <th>19</th>\n",
              "      <td>2.302550</td>\n",
              "      <td>0.098982</td>\n",
              "      <td>2.302583</td>\n",
              "      <td>0.0958</td>\n",
              "    </tr>\n",
              "  </tbody>\n",
              "</table>\n",
              "</div>"
            ],
            "text/plain": [
              "        loss  accuracy  val_loss  val_accuracy\n",
              "0   2.321853  0.107473  2.302583        0.0958\n",
              "1   2.302550  0.098982  2.302583        0.0958\n",
              "2   2.302550  0.098982  2.302583        0.0958\n",
              "3   2.302550  0.098982  2.302583        0.0958\n",
              "4   2.302550  0.098982  2.302583        0.0958\n",
              "5   2.302550  0.098982  2.302583        0.0958\n",
              "6   2.302550  0.098982  2.302583        0.0958\n",
              "7   2.302550  0.098982  2.302583        0.0958\n",
              "8   2.302550  0.098982  2.302583        0.0958\n",
              "9   2.302550  0.098982  2.302583        0.0958\n",
              "10  2.302550  0.098982  2.302583        0.0958\n",
              "11  2.302550  0.098982  2.302583        0.0958\n",
              "12  2.302550  0.098982  2.302583        0.0958\n",
              "13  2.302550  0.098982  2.302583        0.0958\n",
              "14  2.302550  0.098982  2.302583        0.0958\n",
              "15  2.302550  0.098982  2.302583        0.0958\n",
              "16  2.302550  0.098982  2.302583        0.0958\n",
              "17  2.302550  0.098982  2.302583        0.0958\n",
              "18  2.302550  0.098982  2.302583        0.0958\n",
              "19  2.302550  0.098982  2.302583        0.0958"
            ]
          },
          "metadata": {},
          "execution_count": 41
        }
      ]
    },
    {
      "cell_type": "code",
      "metadata": {
        "id": "q0-QtQfBJ2YI",
        "outputId": "23862e8c-6f83-4d32-8c66-607de14b7d93",
        "colab": {
          "base_uri": "https://localhost:8080/",
          "height": 282
        }
      },
      "source": [
        "pd.DataFrame(history.history).plot()"
      ],
      "execution_count": 42,
      "outputs": [
        {
          "output_type": "execute_result",
          "data": {
            "text/plain": [
              "<matplotlib.axes._subplots.AxesSubplot at 0x7f0d1ff8cb50>"
            ]
          },
          "metadata": {},
          "execution_count": 42
        },
        {
          "output_type": "display_data",
          "data": {
            "image/png": "[encoded data removed]",
            "text/plain": [
              "<Figure size 432x288 with 1 Axes>"
            ]
          },
          "metadata": {
            "needs_background": "light"
          }
        }
      ]
    },
    {
      "cell_type": "code",
      "metadata": {
        "id": "CW1pHkk9KBFF"
      },
      "source": [
        "import time\n",
        "import os\n",
        "\n",
        "def saveModel_path(model_dir=\"SAVED_MODELS\"):\n",
        "    os.makedirs(model_dir, exist_ok=True)\n",
        "    fileName = time.strftime(\"Model_%Y_%m_%d_%H_%M_%S_.h5\")    \n",
        "    model_path = os.path.join(model_dir, fileName)\n",
        "    print(f\"your model will be saved at the following location\\n{model_path}\")\n",
        "    return model_path\n"
      ],
      "execution_count": 43,
      "outputs": []
    },
    {
      "cell_type": "code",
      "metadata": {
        "id": "bZKh5IsFKMn8",
        "outputId": "23a7c494-7a13-41ec-96c9-f4334623f205",
        "colab": {
          "base_uri": "https://localhost:8080/"
        }
      },
      "source": [
        "UNIQUE_PATH = model.save(saveModel_path())"
      ],
      "execution_count": 45,
      "outputs": [
        {
          "output_type": "stream",
          "name": "stdout",
          "text": [
            "your model will be saved at the following location\n",
            "SAVED_MODELS/Model_2021_10_26_05_53_32_.h5\n"
          ]
        }
      ]
    },
    {
      "cell_type": "code",
      "metadata": {
        "id": "EBNj3NXSKTci",
        "outputId": "9f1a6764-e582-45a8-8ba6-ed0828f89baf",
        "colab": {
          "base_uri": "https://localhost:8080/"
        }
      },
      "source": [
        "model.evaluate(X_test, y_test)"
      ],
      "execution_count": 46,
      "outputs": [
        {
          "output_type": "stream",
          "name": "stdout",
          "text": [
            "313/313 [==============================] - 1s 2ms/step - loss: 2.3026 - accuracy: 0.0980\n"
          ]
        },
        {
          "output_type": "execute_result",
          "data": {
            "text/plain": [
              "[2.30259108543396, 0.09799999743700027]"
            ]
          },
          "metadata": {},
          "execution_count": 46
        }
      ]
    },
    {
      "cell_type": "code",
      "metadata": {
        "id": "qpRKMMLMKbL2",
        "outputId": "587d6a53-3574-424b-8d22-4e404678a1f0",
        "colab": {
          "base_uri": "https://localhost:8080/"
        }
      },
      "source": [
        "X_new = X_test[:3]\n",
        "y_proba = model.predict(X_new)\n",
        "y_proba.round(2)"
      ],
      "execution_count": 50,
      "outputs": [
        {
          "output_type": "execute_result",
          "data": {
            "text/plain": [
              "array([[0., 0., 0., 0., 0., 0., 0., 0., 0., 0.],\n",
              "       [0., 0., 0., 0., 0., 0., 0., 0., 0., 0.],\n",
              "       [0., 0., 0., 0., 0., 0., 0., 0., 0., 0.]], dtype=float32)"
            ]
          },
          "metadata": {},
          "execution_count": 50
        }
      ]
    },
    {
      "cell_type": "code",
      "metadata": {
        "id": "Sk561MGhKlxy",
        "outputId": "023a9be0-5d2a-4f39-d27b-5db3a1618517",
        "colab": {
          "base_uri": "https://localhost:8080/"
        }
      },
      "source": [
        "y_pred = np.argmax(model.predict(X_new), axis=-1)\n",
        "y_pred"
      ],
      "execution_count": 52,
      "outputs": [
        {
          "output_type": "execute_result",
          "data": {
            "text/plain": [
              "array([0, 0, 0])"
            ]
          },
          "metadata": {},
          "execution_count": 52
        }
      ]
    },
    {
      "cell_type": "code",
      "metadata": {
        "id": "4L4wVHFKK1lw"
      },
      "source": [
        "y_test_new = y_test[:3]"
      ],
      "execution_count": 53,
      "outputs": []
    },
    {
      "cell_type": "code",
      "metadata": {
        "id": "6uFrw0j5K7WK",
        "outputId": "c751f568-56e1-48b9-87c9-8278ffadc364",
        "colab": {
          "base_uri": "https://localhost:8080/",
          "height": 809
        }
      },
      "source": [
        "for data, pred, actual in zip(X_new, y_pred, y_test_new):\n",
        "    plt.imshow(data, cmap=\"binary\")\n",
        "    plt.title(f\"Predicted: {pred}, Actual: {actual}\")\n",
        "    plt.axis('off')\n",
        "    plt.show()\n",
        "    print(\"---\"*20)"
      ],
      "execution_count": 54,
      "outputs": [
        {
          "output_type": "display_data",
          "data": {
            "image/png": "[encoded data removed]",
            "text/plain": [
              "<Figure size 432x288 with 1 Axes>"
            ]
          },
          "metadata": {
            "needs_background": "light"
          }
        },
        {
          "output_type": "stream",
          "name": "stdout",
          "text": [
            "------------------------------------------------------------\n"
          ]
        },
        {
          "output_type": "display_data",
          "data": {
            "image/png": "[encoded data removed]",
            "text/plain": [
              "<Figure size 432x288 with 1 Axes>"
            ]
          },
          "metadata": {
            "needs_background": "light"
          }
        },
        {
          "output_type": "stream",
          "name": "stdout",
          "text": [
            "------------------------------------------------------------\n"
          ]
        },
        {
          "output_type": "display_data",
          "data": {
            "image/png": "[encoded data removed]",
            "text/plain": [
              "<Figure size 432x288 with 1 Axes>"
            ]
          },
          "metadata": {
            "needs_background": "light"
          }
        },
        {
          "output_type": "stream",
          "name": "stdout",
          "text": [
            "------------------------------------------------------------\n"
          ]
        }
      ]
    },
    {
      "cell_type": "code",
      "metadata": {
        "id": "drMBBcM4LDJb"
      },
      "source": [
        ""
      ],
      "execution_count": null,
      "outputs": []
    }
  ]
}